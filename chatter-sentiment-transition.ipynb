{
 "cells": [
  {
   "cell_type": "code",
   "execution_count": 1,
   "id": "2b998107",
   "metadata": {
    "_cell_guid": "b1076dfc-b9ad-4769-8c92-a6c4dae69d19",
    "_uuid": "8f2839f25d086af736a60e9eeb907d3b93b6e0e5",
    "execution": {
     "iopub.execute_input": "2023-08-29T01:19:54.769542Z",
     "iopub.status.busy": "2023-08-29T01:19:54.769146Z",
     "iopub.status.idle": "2023-08-29T01:19:54.792195Z",
     "shell.execute_reply": "2023-08-29T01:19:54.791059Z"
    },
    "papermill": {
     "duration": 0.035617,
     "end_time": "2023-08-29T01:19:54.794881",
     "exception": false,
     "start_time": "2023-08-29T01:19:54.759264",
     "status": "completed"
    },
    "tags": []
   },
   "outputs": [
    {
     "name": "stdout",
     "output_type": "stream",
     "text": [
      "/kaggle/input/chatbot-dataset-topical-chat/topical_chat.csv\n"
     ]
    }
   ],
   "source": [
    "# This Python 3 environment comes with many helpful analytics libraries installed\n",
    "# It is defined by the kaggle/python Docker image: https://github.com/kaggle/docker-python\n",
    "# For example, here's several helpful packages to load\n",
    "\n",
    "import numpy as np # linear algebra\n",
    "import pandas as pd # data processing, CSV file I/O (e.g. pd.read_csv)\n",
    "\n",
    "# Input data files are available in the read-only \"../input/\" directory\n",
    "# For example, running this (by clicking run or pressing Shift+Enter) will list all files under the input directory\n",
    "\n",
    "import os\n",
    "for dirname, _, filenames in os.walk('/kaggle/input'):\n",
    "    for filename in filenames:\n",
    "        print(os.path.join(dirname, filename))\n",
    "\n",
    "# You can write up to 20GB to the current directory (/kaggle/working/) that gets preserved as output when you create a version using \"Save & Run All\" \n",
    "# You can also write temporary files to /kaggle/temp/, but they won't be saved outside of the current session"
   ]
  },
  {
   "cell_type": "code",
   "execution_count": 2,
   "id": "485fc0e7",
   "metadata": {
    "execution": {
     "iopub.execute_input": "2023-08-29T01:19:54.811461Z",
     "iopub.status.busy": "2023-08-29T01:19:54.810646Z",
     "iopub.status.idle": "2023-08-29T01:19:55.624941Z",
     "shell.execute_reply": "2023-08-29T01:19:55.623508Z"
    },
    "papermill": {
     "duration": 0.82539,
     "end_time": "2023-08-29T01:19:55.627664",
     "exception": false,
     "start_time": "2023-08-29T01:19:54.802274",
     "status": "completed"
    },
    "tags": []
   },
   "outputs": [
    {
     "data": {
      "text/html": [
       "<div>\n",
       "<style scoped>\n",
       "    .dataframe tbody tr th:only-of-type {\n",
       "        vertical-align: middle;\n",
       "    }\n",
       "\n",
       "    .dataframe tbody tr th {\n",
       "        vertical-align: top;\n",
       "    }\n",
       "\n",
       "    .dataframe thead th {\n",
       "        text-align: right;\n",
       "    }\n",
       "</style>\n",
       "<table border=\"1\" class=\"dataframe\">\n",
       "  <thead>\n",
       "    <tr style=\"text-align: right;\">\n",
       "      <th></th>\n",
       "      <th>conversation_id</th>\n",
       "      <th>message</th>\n",
       "      <th>sentiment</th>\n",
       "    </tr>\n",
       "  </thead>\n",
       "  <tbody>\n",
       "    <tr>\n",
       "      <th>0</th>\n",
       "      <td>1</td>\n",
       "      <td>Are you a fan of Google or Microsoft?</td>\n",
       "      <td>Curious to dive deeper</td>\n",
       "    </tr>\n",
       "    <tr>\n",
       "      <th>1</th>\n",
       "      <td>1</td>\n",
       "      <td>Both are excellent technology they are helpfu...</td>\n",
       "      <td>Curious to dive deeper</td>\n",
       "    </tr>\n",
       "    <tr>\n",
       "      <th>2</th>\n",
       "      <td>1</td>\n",
       "      <td>I'm not  a huge fan of Google, but I use it a...</td>\n",
       "      <td>Curious to dive deeper</td>\n",
       "    </tr>\n",
       "    <tr>\n",
       "      <th>3</th>\n",
       "      <td>1</td>\n",
       "      <td>Google provides online related services and p...</td>\n",
       "      <td>Curious to dive deeper</td>\n",
       "    </tr>\n",
       "    <tr>\n",
       "      <th>4</th>\n",
       "      <td>1</td>\n",
       "      <td>Yeah, their services are good. I'm just not a...</td>\n",
       "      <td>Curious to dive deeper</td>\n",
       "    </tr>\n",
       "  </tbody>\n",
       "</table>\n",
       "</div>"
      ],
      "text/plain": [
       "   conversation_id                                            message  \\\n",
       "0                1              Are you a fan of Google or Microsoft?   \n",
       "1                1   Both are excellent technology they are helpfu...   \n",
       "2                1   I'm not  a huge fan of Google, but I use it a...   \n",
       "3                1   Google provides online related services and p...   \n",
       "4                1   Yeah, their services are good. I'm just not a...   \n",
       "\n",
       "                 sentiment  \n",
       "0   Curious to dive deeper  \n",
       "1   Curious to dive deeper  \n",
       "2   Curious to dive deeper  \n",
       "3   Curious to dive deeper  \n",
       "4   Curious to dive deeper  "
      ]
     },
     "execution_count": 2,
     "metadata": {},
     "output_type": "execute_result"
    }
   ],
   "source": [
    "df = pd.read_csv('../input/chatbot-dataset-topical-chat/topical_chat.csv')\n",
    "df.head()"
   ]
  },
  {
   "cell_type": "code",
   "execution_count": 3,
   "id": "63fd4b9d",
   "metadata": {
    "execution": {
     "iopub.execute_input": "2023-08-29T01:19:55.645374Z",
     "iopub.status.busy": "2023-08-29T01:19:55.644962Z",
     "iopub.status.idle": "2023-08-29T01:19:55.655782Z",
     "shell.execute_reply": "2023-08-29T01:19:55.654545Z"
    },
    "papermill": {
     "duration": 0.022301,
     "end_time": "2023-08-29T01:19:55.658147",
     "exception": false,
     "start_time": "2023-08-29T01:19:55.635846",
     "status": "completed"
    },
    "tags": []
   },
   "outputs": [
    {
     "data": {
      "text/plain": [
       "<bound method NDFrame._add_numeric_operations.<locals>.max of 0            1\n",
       "1            1\n",
       "2            1\n",
       "3            1\n",
       "4            1\n",
       "          ... \n",
       "188373    8628\n",
       "188374    8628\n",
       "188375    8628\n",
       "188376    8628\n",
       "188377    8628\n",
       "Name: conversation_id, Length: 188378, dtype: int64>"
      ]
     },
     "execution_count": 3,
     "metadata": {},
     "output_type": "execute_result"
    }
   ],
   "source": [
    "df.conversation_id.max"
   ]
  },
  {
   "cell_type": "code",
   "execution_count": 4,
   "id": "60bb7e86",
   "metadata": {
    "execution": {
     "iopub.execute_input": "2023-08-29T01:19:55.675467Z",
     "iopub.status.busy": "2023-08-29T01:19:55.675060Z",
     "iopub.status.idle": "2023-08-29T01:19:55.680142Z",
     "shell.execute_reply": "2023-08-29T01:19:55.678919Z"
    },
    "papermill": {
     "duration": 0.016889,
     "end_time": "2023-08-29T01:19:55.682732",
     "exception": false,
     "start_time": "2023-08-29T01:19:55.665843",
     "status": "completed"
    },
    "tags": []
   },
   "outputs": [],
   "source": [
    "conv_N = 8628"
   ]
  },
  {
   "cell_type": "markdown",
   "id": "62a89bd7",
   "metadata": {
    "papermill": {
     "duration": 0.007624,
     "end_time": "2023-08-29T01:19:55.698281",
     "exception": false,
     "start_time": "2023-08-29T01:19:55.690657",
     "status": "completed"
    },
    "tags": []
   },
   "source": [
    "## Assign speaker ID\n",
    "\n",
    "Assign speaker ID to speakers: \n",
    "* A: the first speaker\n",
    "* B: the second speaker"
   ]
  },
  {
   "cell_type": "code",
   "execution_count": 5,
   "id": "6069b3fa",
   "metadata": {
    "execution": {
     "iopub.execute_input": "2023-08-29T01:19:55.715132Z",
     "iopub.status.busy": "2023-08-29T01:19:55.714719Z",
     "iopub.status.idle": "2023-08-29T01:20:03.538259Z",
     "shell.execute_reply": "2023-08-29T01:20:03.537003Z"
    },
    "papermill": {
     "duration": 7.835408,
     "end_time": "2023-08-29T01:20:03.541165",
     "exception": false,
     "start_time": "2023-08-29T01:19:55.705757",
     "status": "completed"
    },
    "tags": []
   },
   "outputs": [],
   "source": [
    "speaker_id = []\n",
    "for conv in range(1, conv_N+1):\n",
    "    df_conv = df.loc[df.conversation_id==conv].reset_index()\n",
    "    for idx in df_conv.index:\n",
    "        if idx%2 == 0:\n",
    "            speaker_id.append(str(conv)+'A')\n",
    "        else:\n",
    "            speaker_id.append(str(conv)+'B')    "
   ]
  },
  {
   "cell_type": "code",
   "execution_count": 6,
   "id": "a5b091ee",
   "metadata": {
    "execution": {
     "iopub.execute_input": "2023-08-29T01:20:03.558549Z",
     "iopub.status.busy": "2023-08-29T01:20:03.558153Z",
     "iopub.status.idle": "2023-08-29T01:20:03.575958Z",
     "shell.execute_reply": "2023-08-29T01:20:03.574819Z"
    },
    "papermill": {
     "duration": 0.029852,
     "end_time": "2023-08-29T01:20:03.578746",
     "exception": false,
     "start_time": "2023-08-29T01:20:03.548894",
     "status": "completed"
    },
    "tags": []
   },
   "outputs": [],
   "source": [
    "df[\"speaker_id\"] = speaker_id"
   ]
  },
  {
   "cell_type": "code",
   "execution_count": 7,
   "id": "8416328e",
   "metadata": {
    "execution": {
     "iopub.execute_input": "2023-08-29T01:20:03.597705Z",
     "iopub.status.busy": "2023-08-29T01:20:03.597322Z",
     "iopub.status.idle": "2023-08-29T01:20:05.351218Z",
     "shell.execute_reply": "2023-08-29T01:20:05.350034Z"
    },
    "papermill": {
     "duration": 1.767649,
     "end_time": "2023-08-29T01:20:05.354185",
     "exception": false,
     "start_time": "2023-08-29T01:20:03.586536",
     "status": "completed"
    },
    "tags": []
   },
   "outputs": [],
   "source": [
    "df.to_csv('/kaggle/working/df.csv',index=False)"
   ]
  },
  {
   "cell_type": "markdown",
   "id": "f8e6fe47",
   "metadata": {
    "papermill": {
     "duration": 0.007274,
     "end_time": "2023-08-29T01:20:05.369061",
     "exception": false,
     "start_time": "2023-08-29T01:20:05.361787",
     "status": "completed"
    },
    "tags": []
   },
   "source": [
    "## Analyze sentiment"
   ]
  },
  {
   "cell_type": "code",
   "execution_count": 8,
   "id": "7b904f0f",
   "metadata": {
    "execution": {
     "iopub.execute_input": "2023-08-29T01:20:05.385629Z",
     "iopub.status.busy": "2023-08-29T01:20:05.385214Z",
     "iopub.status.idle": "2023-08-29T01:20:05.413415Z",
     "shell.execute_reply": "2023-08-29T01:20:05.411994Z"
    },
    "papermill": {
     "duration": 0.039745,
     "end_time": "2023-08-29T01:20:05.416271",
     "exception": false,
     "start_time": "2023-08-29T01:20:05.376526",
     "status": "completed"
    },
    "tags": []
   },
   "outputs": [],
   "source": [
    "sent_N = 8\n",
    "sent_list = list(df.sentiment.unique())"
   ]
  },
  {
   "cell_type": "code",
   "execution_count": 9,
   "id": "4651dced",
   "metadata": {
    "execution": {
     "iopub.execute_input": "2023-08-29T01:20:05.433569Z",
     "iopub.status.busy": "2023-08-29T01:20:05.433153Z",
     "iopub.status.idle": "2023-08-29T01:20:05.438322Z",
     "shell.execute_reply": "2023-08-29T01:20:05.437540Z"
    },
    "papermill": {
     "duration": 0.016359,
     "end_time": "2023-08-29T01:20:05.440393",
     "exception": false,
     "start_time": "2023-08-29T01:20:05.424034",
     "status": "completed"
    },
    "tags": []
   },
   "outputs": [],
   "source": [
    "sent_to_idx = dict(zip(sent_list,list(range(sent_N))))"
   ]
  },
  {
   "cell_type": "code",
   "execution_count": 10,
   "id": "e142738a",
   "metadata": {
    "execution": {
     "iopub.execute_input": "2023-08-29T01:20:05.457562Z",
     "iopub.status.busy": "2023-08-29T01:20:05.457188Z",
     "iopub.status.idle": "2023-08-29T01:20:05.516916Z",
     "shell.execute_reply": "2023-08-29T01:20:05.515998Z"
    },
    "papermill": {
     "duration": 0.07164,
     "end_time": "2023-08-29T01:20:05.519587",
     "exception": false,
     "start_time": "2023-08-29T01:20:05.447947",
     "status": "completed"
    },
    "tags": []
   },
   "outputs": [],
   "source": [
    "df_speaker = df.loc[df[\"speaker_id\"]==\"1A\"]"
   ]
  },
  {
   "cell_type": "code",
   "execution_count": 11,
   "id": "4eb12b30",
   "metadata": {
    "execution": {
     "iopub.execute_input": "2023-08-29T01:20:05.536603Z",
     "iopub.status.busy": "2023-08-29T01:20:05.536172Z",
     "iopub.status.idle": "2023-08-29T01:20:05.541549Z",
     "shell.execute_reply": "2023-08-29T01:20:05.540521Z"
    },
    "papermill": {
     "duration": 0.016847,
     "end_time": "2023-08-29T01:20:05.544109",
     "exception": false,
     "start_time": "2023-08-29T01:20:05.527262",
     "status": "completed"
    },
    "tags": []
   },
   "outputs": [],
   "source": [
    "transition = np.zeros((sent_N, sent_N))"
   ]
  },
  {
   "cell_type": "code",
   "execution_count": 12,
   "id": "ff5440b3",
   "metadata": {
    "execution": {
     "iopub.execute_input": "2023-08-29T01:20:05.561126Z",
     "iopub.status.busy": "2023-08-29T01:20:05.560703Z",
     "iopub.status.idle": "2023-08-29T01:20:05.568849Z",
     "shell.execute_reply": "2023-08-29T01:20:05.567663Z"
    },
    "papermill": {
     "duration": 0.01969,
     "end_time": "2023-08-29T01:20:05.571361",
     "exception": false,
     "start_time": "2023-08-29T01:20:05.551671",
     "status": "completed"
    },
    "tags": []
   },
   "outputs": [
    {
     "data": {
      "text/plain": [
       "array([[0., 0., 0., 0., 0., 0., 0., 0.],\n",
       "       [0., 0., 0., 0., 0., 0., 0., 0.],\n",
       "       [0., 0., 0., 0., 0., 0., 0., 0.],\n",
       "       [0., 0., 0., 0., 0., 0., 0., 0.],\n",
       "       [0., 0., 0., 0., 0., 0., 0., 0.],\n",
       "       [0., 0., 0., 0., 0., 0., 0., 0.],\n",
       "       [0., 0., 0., 0., 0., 0., 0., 0.],\n",
       "       [0., 0., 0., 0., 0., 0., 0., 0.]])"
      ]
     },
     "execution_count": 12,
     "metadata": {},
     "output_type": "execute_result"
    }
   ],
   "source": [
    "transition"
   ]
  },
  {
   "cell_type": "code",
   "execution_count": 13,
   "id": "eefee54e",
   "metadata": {
    "execution": {
     "iopub.execute_input": "2023-08-29T01:20:05.588297Z",
     "iopub.status.busy": "2023-08-29T01:20:05.587872Z",
     "iopub.status.idle": "2023-08-29T01:20:05.592948Z",
     "shell.execute_reply": "2023-08-29T01:20:05.591704Z"
    },
    "papermill": {
     "duration": 0.016491,
     "end_time": "2023-08-29T01:20:05.595458",
     "exception": false,
     "start_time": "2023-08-29T01:20:05.578967",
     "status": "completed"
    },
    "tags": []
   },
   "outputs": [],
   "source": [
    "from tqdm import tqdm"
   ]
  },
  {
   "cell_type": "code",
   "execution_count": 14,
   "id": "5eda1771",
   "metadata": {
    "execution": {
     "iopub.execute_input": "2023-08-29T01:20:05.612375Z",
     "iopub.status.busy": "2023-08-29T01:20:05.611942Z",
     "iopub.status.idle": "2023-08-29T01:20:05.680231Z",
     "shell.execute_reply": "2023-08-29T01:20:05.678525Z"
    },
    "papermill": {
     "duration": 0.080129,
     "end_time": "2023-08-29T01:20:05.683337",
     "exception": false,
     "start_time": "2023-08-29T01:20:05.603208",
     "status": "completed"
    },
    "tags": []
   },
   "outputs": [],
   "source": [
    "df['sentiment_next'] = df.groupby('speaker_id')['sentiment'].shift(1)"
   ]
  },
  {
   "cell_type": "code",
   "execution_count": 15,
   "id": "1fa39d0c",
   "metadata": {
    "execution": {
     "iopub.execute_input": "2023-08-29T01:20:05.700650Z",
     "iopub.status.busy": "2023-08-29T01:20:05.700205Z",
     "iopub.status.idle": "2023-08-29T01:20:44.535244Z",
     "shell.execute_reply": "2023-08-29T01:20:44.534038Z"
    },
    "papermill": {
     "duration": 38.846948,
     "end_time": "2023-08-29T01:20:44.538077",
     "exception": false,
     "start_time": "2023-08-29T01:20:05.691129",
     "status": "completed"
    },
    "tags": []
   },
   "outputs": [
    {
     "name": "stderr",
     "output_type": "stream",
     "text": [
      "100%|██████████| 171122/171122 [00:38<00:00, 4442.15it/s]\n"
     ]
    }
   ],
   "source": [
    "df = df.dropna()\n",
    "transition = np.zeros((sent_N, sent_N)) # reset transition matrix \n",
    "for idx in tqdm(range(df.shape[0])):    \n",
    "    current_state = df.iloc[idx][\"sentiment\"]\n",
    "    next_state = df.iloc[idx][\"sentiment_next\"]\n",
    "    transition[sent_to_idx[current_state], sent_to_idx[next_state]] += 1"
   ]
  },
  {
   "cell_type": "markdown",
   "id": "61257dd8",
   "metadata": {
    "papermill": {
     "duration": 0.041246,
     "end_time": "2023-08-29T01:20:44.622202",
     "exception": false,
     "start_time": "2023-08-29T01:20:44.580956",
     "status": "completed"
    },
    "tags": []
   },
   "source": [
    "## Plot the transition matrix"
   ]
  },
  {
   "cell_type": "code",
   "execution_count": 16,
   "id": "44da987b",
   "metadata": {
    "execution": {
     "iopub.execute_input": "2023-08-29T01:20:44.708388Z",
     "iopub.status.busy": "2023-08-29T01:20:44.707977Z",
     "iopub.status.idle": "2023-08-29T01:20:46.258698Z",
     "shell.execute_reply": "2023-08-29T01:20:46.257781Z"
    },
    "papermill": {
     "duration": 1.596976,
     "end_time": "2023-08-29T01:20:46.261425",
     "exception": false,
     "start_time": "2023-08-29T01:20:44.664449",
     "status": "completed"
    },
    "tags": []
   },
   "outputs": [
    {
     "name": "stderr",
     "output_type": "stream",
     "text": [
      "/opt/conda/lib/python3.10/site-packages/scipy/__init__.py:146: UserWarning: A NumPy version >=1.16.5 and <1.23.0 is required for this version of SciPy (detected version 1.23.5\n",
      "  warnings.warn(f\"A NumPy version >={np_minversion} and <{np_maxversion}\"\n"
     ]
    }
   ],
   "source": [
    "import seaborn as sns"
   ]
  },
  {
   "cell_type": "code",
   "execution_count": 17,
   "id": "ca613a6e",
   "metadata": {
    "execution": {
     "iopub.execute_input": "2023-08-29T01:20:46.357257Z",
     "iopub.status.busy": "2023-08-29T01:20:46.356413Z",
     "iopub.status.idle": "2023-08-29T01:20:47.004872Z",
     "shell.execute_reply": "2023-08-29T01:20:47.003698Z"
    },
    "papermill": {
     "duration": 0.696431,
     "end_time": "2023-08-29T01:20:47.007824",
     "exception": false,
     "start_time": "2023-08-29T01:20:46.311393",
     "status": "completed"
    },
    "tags": []
   },
   "outputs": [
    {
     "data": {
      "text/plain": [
       "<Axes: >"
      ]
     },
     "execution_count": 17,
     "metadata": {},
     "output_type": "execute_result"
    },
    {
     "data": {
      "image/png": "[encoded data removed]",
      "text/plain": [
       "<Figure size 640x480 with 2 Axes>"
      ]
     },
     "metadata": {},
     "output_type": "display_data"
    }
   ],
   "source": [
    "sns.heatmap(transition, annot = True, fmt = \".0f\", \n",
    "            xticklabels = sent_list, yticklabels = sent_list)"
   ]
  },
  {
   "cell_type": "code",
   "execution_count": null,
   "id": "4347189e",
   "metadata": {
    "papermill": {
     "duration": 0.044444,
     "end_time": "2023-08-29T01:20:47.095635",
     "exception": false,
     "start_time": "2023-08-29T01:20:47.051191",
     "status": "completed"
    },
    "tags": []
   },
   "outputs": [],
   "source": []
  }
 ],
 "metadata": {
  "kernelspec": {
   "display_name": "Python 3",
   "language": "python",
   "name": "python3"
  },
  "language_info": {
   "codemirror_mode": {
    "name": "ipython",
    "version": 3
   },
   "file_extension": ".py",
   "mimetype": "text/x-python",
   "name": "python",
   "nbconvert_exporter": "python",
   "pygments_lexer": "ipython3",
   "version": "3.10.12"
  },
  "papermill": {
   "default_parameters": {},
   "duration": 64.722868,
   "end_time": "2023-08-29T01:20:48.164310",
   "environment_variables": {},
   "exception": null,
   "input_path": "__notebook__.ipynb",
   "output_path": "__notebook__.ipynb",
   "parameters": {},
   "start_time": "2023-08-29T01:19:43.441442",
   "version": "2.4.0"
  }
 },
 "nbformat": 4,
 "nbformat_minor": 5
}
